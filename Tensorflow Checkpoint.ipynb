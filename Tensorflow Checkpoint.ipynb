{
 "cells": [
  {
   "cell_type": "markdown",
   "metadata": {},
   "source": [
    "<h1>Predicting the Quality of Education from Wikipedia Articles</h1>"
   ]
  },
  {
   "cell_type": "code",
   "execution_count": 63,
   "metadata": {
    "collapsed": true
   },
   "outputs": [],
   "source": [
    "%matplotlib inline\n",
    "\n",
    "import numpy as np\n",
    "import matplotlib.pyplot as plt\n",
    "import tensorflow as tf\n",
    "import wikipedia\n",
    "\n",
    "import csv\n",
    "import time\n",
    "import os\n",
    "import pickle\n",
    "import random"
   ]
  },
  {
   "cell_type": "markdown",
   "metadata": {},
   "source": [
    "First, we query Wikipedia to get the relevant articles. We only use 100 articles as to avoid throttling Wikipedia's API."
   ]
  },
  {
   "cell_type": "code",
   "execution_count": 15,
   "metadata": {
    "collapsed": true
   },
   "outputs": [],
   "source": [
    "with open('DataSets/NN_CollegeData.csv', 'r') as f:\n",
    "    data = csv.reader(f)\n",
    "    next(data) # Skip the header row.\n",
    "    \n",
    "    # The college name is in the 2nd column and the quintile of graduation is in the 4th\n",
    "    colleges = [(row[1], int(row[3])) for row in data]\n",
    " "
   ]
  },
  {
   "cell_type": "code",
   "execution_count": 18,
   "metadata": {
    "collapsed": true
   },
   "outputs": [],
   "source": [
    "def query_wikipedia(schoolname):\n",
    "    time.sleep(1) # To avoid throttling Wikipedia\n",
    "    return wikipedia.page(schoolname).content"
   ]
  },
  {
   "cell_type": "code",
   "execution_count": 52,
   "metadata": {},
   "outputs": [
    {
     "name": "stdout",
     "output_type": "stream",
     "text": [
      "100 0\n"
     ]
    }
   ],
   "source": [
    "NUM_ARTICLES = 100\n",
    "\n",
    "articles = {}\n",
    "labels = {}\n",
    "failed = []\n",
    "\n",
    "if os.path.isfile('wikipedia_data.pickle') and os.path.isfile('wikipedia_labels.pickle'):\n",
    "    with open('wikipedia_data.pickle', 'rb') as f:\n",
    "        articles = pickle.load(f)\n",
    "    with open('wikipedia_labels.pickle', 'rb') as f:\n",
    "        labels = pickle.load(f)\n",
    "else:\n",
    "    start = time.time()\n",
    "    for college, label in colleges:\n",
    "        try :\n",
    "            print(college)\n",
    "            articles[college] = query_wikipedia(college)\n",
    "            labels[college] = label\n",
    "            if len(articles > NUM_ARTICLES):\n",
    "                break\n",
    "        except:\n",
    "            failed.append(college)\n",
    "    print(\"Time Elapsed: \", time.time() - start)\n",
    "    \n",
    "    with open('wikipedia_data.pickle', 'wb') as f:\n",
    "        pickle.dump(articles, f)  \n",
    "    with open('wikipedia_labels.pickle', 'wb') as f:\n",
    "        pickle.dump(labels, f)\n",
    "    \n",
    "print(len(articles), len(failed))"
   ]
  },
  {
   "cell_type": "markdown",
   "metadata": {},
   "source": [
    "Now we need to convert the raw text data into numpy vectors that the Neural Net can process"
   ]
  },
  {
   "cell_type": "code",
   "execution_count": 291,
   "metadata": {
    "collapsed": true
   },
   "outputs": [],
   "source": [
    "from string import ascii_lowercase, whitespace\n",
    "\n",
    "allowable_characters = ascii_lowercase + punctuation + whitespace\n",
    "article_size = 8000 # Arbitrarily cut off at 8000 characters so everything is uniform\n",
    "def preprocess_article(article):\n",
    "    return \"\".join(char for char in article.lower() if char in allowable_characters)\n",
    "\n",
    "def vectorize_article(article, input_length=10):\n",
    "    \"\"\"Turns a preprocessed vector into a vector for use by the Neural Network\"\"\"\n",
    "    character_indices = [allowable_characters.index(c) for c in article]\n",
    "    if len(character_indices) < article_size:\n",
    "        chars_to_pad = article_size - len(character_indices)\n",
    "        padded_character_indices = np.pad(character_indices, (0, chars_to_pad), 'constant')\n",
    "    else:\n",
    "        padded_character_indices = character_indices[:article_size]\n",
    "    \n",
    "    assert len(padded_character_indices) == article_size\n",
    "    return np.array(padded_character_indices)#[i:i+input_length] \n",
    "                    #for i in range(len(padded_character_indices) - input_length)])\n",
    "\n",
    "def vectorize_labels(label):\n",
    "    v = np.zeros(5)\n",
    "    v[label] = 1\n",
    "    return v"
   ]
  },
  {
   "cell_type": "code",
   "execution_count": 292,
   "metadata": {},
   "outputs": [
    {
     "name": "stdout",
     "output_type": "stream",
     "text": [
      "[ 0 11  0 ..., 11  8 13]\n"
     ]
    }
   ],
   "source": [
    "input_length = 10\n",
    "\n",
    "article_vectors = {\n",
    "    college_name: vectorize_article(preprocess_article(article_content), \n",
    "                                    input_length=input_length) \n",
    "    for college_name, article_content in articles.items()\n",
    "}\n",
    "\n",
    "label_vectors = {\n",
    "    college_name: vectorize_labels(label)\n",
    "    for college_name, label in labels.items()\n",
    "}\n",
    "\n",
    "colleges_to_analyze = list(college for college in articles.keys())\n",
    "print(vectorize_article(preprocess_article(\n",
    "               articles[colleges_to_analyze[0]])))"
   ]
  },
  {
   "cell_type": "code",
   "execution_count": 293,
   "metadata": {},
   "outputs": [
    {
     "name": "stdout",
     "output_type": "stream",
     "text": [
      "(8000,)\n"
     ]
    }
   ],
   "source": [
    "training_split = int(.9 * NUM_ARTICLES)\n",
    "random.shuffle(colleges_to_analyze)\n",
    "\n",
    "training_colleges = colleges_to_analyze[:training_split]\n",
    "testing_colleges = colleges_to_analyze[training_split:]\n",
    "\n",
    "X_train = np.array([article_vectors[college] for college in training_colleges])\n",
    "Y_train = np.array([label_vectors[college] for college in training_colleges])\n",
    "X_test = np.array([article_vectors[college] for college in testing_colleges])\n",
    "Y_test = np.array([label_vectors[college] for college in testing_colleges])\n",
    "\n",
    "print(X_train[0].shape)"
   ]
  },
  {
   "cell_type": "code",
   "execution_count": 294,
   "metadata": {},
   "outputs": [],
   "source": [
    "from keras.models import load_model # File parsing\n",
    "\n",
    "from keras.models import Sequential\n",
    "from keras.layers import Dense, LSTM, Embedding"
   ]
  },
  {
   "cell_type": "code",
   "execution_count": 295,
   "metadata": {},
   "outputs": [
    {
     "name": "stdout",
     "output_type": "stream",
     "text": [
      "_________________________________________________________________\n",
      "Layer (type)                 Output Shape              Param #   \n",
      "=================================================================\n",
      "embedding_21 (Embedding)     (None, 8000, 64)          4096      \n",
      "_________________________________________________________________\n",
      "lstm_22 (LSTM)               (None, 20)                6800      \n",
      "_________________________________________________________________\n",
      "dense_20 (Dense)             (None, 5)                 105       \n",
      "=================================================================\n",
      "Total params: 11,001\n",
      "Trainable params: 11,001\n",
      "Non-trainable params: 0\n",
      "_________________________________________________________________\n",
      "None\n"
     ]
    }
   ],
   "source": [
    "model = Sequential()\n",
    "model.add(Embedding(len(allowable_characters), 64, input_length=8000))\n",
    "model.add(LSTM(20))\n",
    "model.add(Dense(5, activation='tanh'))\n",
    "model.compile(loss='binary_crossentropy', optimizer='adam', metrics=['accuracy'])\n",
    "print(model.summary())"
   ]
  },
  {
   "cell_type": "code",
   "execution_count": 298,
   "metadata": {},
   "outputs": [
    {
     "name": "stdout",
     "output_type": "stream",
     "text": [
      "Train on 90 samples, validate on 10 samples\n",
      "Epoch 1/8\n",
      "90/90 [==============================] - 13s 145ms/step - loss: 1.0198 - acc: 0.8000 - val_loss: 0.6407 - val_acc: 0.8000\n",
      "Epoch 2/8\n",
      "90/90 [==============================] - 14s 159ms/step - loss: 0.7165 - acc: 0.8000 - val_loss: 0.6032 - val_acc: 0.8000\n",
      "Epoch 3/8\n",
      "90/90 [==============================] - 17s 186ms/step - loss: 0.6136 - acc: 0.8000 - val_loss: 0.5768 - val_acc: 0.8000\n",
      "Epoch 4/8\n",
      "90/90 [==============================] - 16s 183ms/step - loss: 0.5739 - acc: 0.8000 - val_loss: 0.5560 - val_acc: 0.8000\n",
      "Epoch 5/8\n",
      "90/90 [==============================] - 14s 161ms/step - loss: 0.5463 - acc: 0.8000 - val_loss: 0.5386 - val_acc: 0.8000\n",
      "Epoch 6/8\n",
      "90/90 [==============================] - 18s 196ms/step - loss: 0.5258 - acc: 0.8000 - val_loss: 0.5235 - val_acc: 0.8000\n",
      "Epoch 7/8\n",
      "90/90 [==============================] - 16s 174ms/step - loss: 0.5083 - acc: 0.8000 - val_loss: 0.5098 - val_acc: 0.8000\n",
      "Epoch 8/8\n",
      "90/90 [==============================] - 20s 225ms/step - loss: 0.4933 - acc: 0.8000 - val_loss: 0.4976 - val_acc: 0.8000\n"
     ]
    }
   ],
   "source": [
    "acc = model.fit(X_train, Y_train, validation_data=(X_test, Y_test), epochs=8, batch_size=64)"
   ]
  },
  {
   "cell_type": "code",
   "execution_count": 301,
   "metadata": {},
   "outputs": [
    {
     "data": {
      "image/png": "[encoded data removed]",
      "text/plain": [
       "<matplotlib.figure.Figure at 0x182de26438>"
      ]
     },
     "metadata": {},
     "output_type": "display_data"
    }
   ],
   "source": [
    "plt.plot(acc.history['acc'])\n",
    "plt.title(\"Predicting School quality from Wikipedia articles\")\n",
    "plt.xlabel('Epoch')\n",
    "plt.ylabel('Accuracy')\n",
    "plt.savefig('accuracy.png')\n",
    "plt.show()\n"
   ]
  },
  {
   "cell_type": "code",
   "execution_count": null,
   "metadata": {
    "collapsed": true
   },
   "outputs": [],
   "source": []
  }
 ],
 "metadata": {
  "kernelspec": {
   "display_name": "Python 3",
   "language": "python",
   "name": "python3"
  },
  "language_info": {
   "codemirror_mode": {
    "name": "ipython",
    "version": 3
   },
   "file_extension": ".py",
   "mimetype": "text/x-python",
   "name": "python",
   "nbconvert_exporter": "python",
   "pygments_lexer": "ipython3",
   "version": "3.6.2"
  }
 },
 "nbformat": 4,
 "nbformat_minor": 2
}
